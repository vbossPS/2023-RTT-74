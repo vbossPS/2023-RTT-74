{
 "cells": [
  {
   "cell_type": "markdown",
   "metadata": {},
   "source": [
    "### Variables and Expressions in Python\n",
    "___ \n",
    "Variables are names that we give to certain values in our program. When we create a variable in our code the computer reserves a chunk of memory to store that value.  \n",
    "The process of storing a value in a variable is called an assignment.  \n",
    "Expression is a combination of numbers, symbols, and other variables that produces a result when evaluated.  \n",
    "In the below code we assign value 5 to the base variable and value 3 to the height variable and then assign the expression result to the area variable and use the print function to display the area of the triangle."
   ]
  },
  {
   "cell_type": "markdown",
   "metadata": {},
   "source": [
    "### Variable naming restrictions: \n",
    "___\n",
    "- Don’t use keywords or functions that python reserves for its own.\n",
    "- Don’t use spaces.\n",
    "- Must start with a letter or underscore(_).\n",
    "- Must be made up of letters, numbers, and underscores(_) only.\n",
    "- Variable names are case sensitive."
   ]
  },
  {
   "cell_type": "code",
   "execution_count": null,
   "metadata": {},
   "outputs": [],
   "source": [
    "base = 5\n",
    "height = 3\n",
    "area = ((base*height)/2)\n",
    "print(area)"
   ]
  }
 ],
 "metadata": {
  "kernelspec": {
   "display_name": "Python 3",
   "language": "python",
   "name": "python3"
  },
  "language_info": {
   "name": "python",
   "version": "3.10.11"
  },
  "orig_nbformat": 4
 },
 "nbformat": 4,
 "nbformat_minor": 2
}
