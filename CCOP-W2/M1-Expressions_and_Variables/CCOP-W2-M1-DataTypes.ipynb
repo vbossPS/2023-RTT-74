{
 "cells": [
  {
   "cell_type": "code",
   "execution_count": null,
   "metadata": {},
   "outputs": [],
   "source": [
    "x = 5\n",
    "print(type(x))"
   ]
  },
  {
   "cell_type": "markdown",
   "metadata": {},
   "source": [
    "DataTypes\n",
    "https://www.w3schools.com/python/python_datatypes.asp\n"
   ]
  },
  {
   "cell_type": "code",
   "execution_count": null,
   "metadata": {},
   "outputs": [],
   "source": [
    "# Setting the Data Type\n",
    "# In Python, the data type is set when you assign a value to a variable:\n",
    "\n",
    "# Example\tData Type\tTry it\n",
    "x = \"Hello World\"\t#str\t\n",
    "x = 20\t#int\t\n",
    "x = 20.5\t#float\t\n",
    "x = 1j\t#complex\t\n",
    "x = [\"apple\", \"banana\", \"cherry\"]\t#list\t\n",
    "x = (\"apple\", \"banana\", \"cherry\")\t#tuple\t\n",
    "x = range(6)\t#range\t\n",
    "x = {\"name\" : \"John\", \"age\" : 36}\t#dict\t\n",
    "x = {\"apple\", \"banana\", \"cherry\"}\t#set\t\n",
    "x = frozenset({\"apple\", \"banana\", \"cherry\"})\t#frozenset\t\n",
    "x = True\t#bool\t\n",
    "x = b\"Hello\"\t#bytes\t\n",
    "x = bytearray(5)\t#bytearray\t\n",
    "x = memoryview(bytes(5))\t#memoryview\t\n",
    "x = None\t#NoneType"
   ]
  },
  {
   "cell_type": "code",
   "execution_count": null,
   "metadata": {},
   "outputs": [],
   "source": [
    "# Setting the Specific Data Type\n",
    "# If you want to specify the data type, you can use the following constructor functions:\n",
    "\n",
    "# Example\tData Type\tTry it\n",
    "x = str(\"Hello World\")\t#str\t\n",
    "x = int(20)\t#int\t\n",
    "x = float(20.5)\t#float\t\n",
    "x = complex(1j)#complex\t\n",
    "x = list((\"apple\", \"banana\", \"cherry\"))\t#list\t\n",
    "x = tuple((\"apple\", \"banana\", \"cherry\"))\t#tuple\t\n",
    "x = range(6)\t#range\t\n",
    "x = dict(name=\"John\", age=36)\t#dict\t\n",
    "x = set((\"apple\", \"banana\", \"cherry\"))\t#set\t\n",
    "x = frozenset((\"apple\", \"banana\", \"cherry\"))\t#frozenset\t\n",
    "x = bool(5)\t#bool\t\n",
    "x = bytes(5)\t#bytes\t\n",
    "x = bytearray(5)\t#bytearray\t\n",
    "x = memoryview(bytes(5))\t#memoryview\t\n",
    "\n"
   ]
  },
  {
   "cell_type": "markdown",
   "metadata": {},
   "source": []
  },
  {
   "cell_type": "markdown",
   "metadata": {},
   "source": []
  },
  {
   "cell_type": "markdown",
   "metadata": {},
   "source": [
    "Valerie's Examples"
   ]
  },
  {
   "cell_type": "code",
   "execution_count": null,
   "metadata": {},
   "outputs": [],
   "source": [
    "# Study Guide: Python Data Types\n",
    "\n",
    "# 1. Numeric Data Types\n",
    "# Explanation: Numeric data types represent numbers and are used for arithmetic operations.\n",
    "\n",
    "# Example 1: Integer\n",
    "age = 25\n",
    "number_of_students = 100\n",
    "\n",
    "# Example 2: Float\n",
    "temperature = 28.5\n",
    "pi_value = 3.14159\n",
    "\n",
    "# 2. String Data Type\n",
    "# Explanation: Strings are sequences of characters and are used to represent text.\n",
    "\n",
    "# Example 1: Person's Name\n",
    "name = \"John Doe\"\n",
    "company_name = \"Acme Corporation\"\n",
    "\n",
    "# Example 2: Message\n",
    "welcome_message = \"Hello, welcome to our website!\"\n",
    "error_message = \"404 - Page not found\"\n",
    "\n",
    "# 3. Boolean Data Type\n",
    "# Explanation: Boolean data types represent truth values: True or False.\n",
    "\n",
    "# Example 1: User Authentication\n",
    "is_authenticated = True\n",
    "is_admin = False\n",
    "\n",
    "# Example 2: Subscription Status\n",
    "has_subscription = True\n",
    "is_trial_expired = False\n",
    "\n",
    "# 4. List Data Type\n",
    "# Explanation: Lists are ordered, mutable collections of items.\n",
    "\n",
    "# Example 1: Shopping List\n",
    "shopping_list = [\"apples\", \"bananas\", \"milk\", \"bread\"]\n",
    "\n",
    "# Example 2: Employee IDs\n",
    "employee_ids = [101, 102, 105, 110]\n",
    "\n",
    "# 5. Tuple Data Type\n",
    "# Explanation: Tuples are ordered, immutable collections of items.\n",
    "\n",
    "# Example 1: Coordinates\n",
    "coordinates = (10.5, 20.7)\n",
    "\n",
    "# Example 2: RGB Color Values\n",
    "color_rgb = (255, 128, 0)\n",
    "\n",
    "# 6. Set Data Type\n",
    "# Explanation: Sets are unordered collections of unique items.\n",
    "\n",
    "# Example 1: Unique Tags\n",
    "post_tags = {\"python\", \"programming\", \"tutorial\"}\n",
    "\n",
    "# Example 2: Attendees in a Workshop\n",
    "workshop_attendees = {\"John\", \"Alice\", \"Bob\"}\n",
    "\n",
    "# 7. Dictionary Data Type\n",
    "# Explanation: Dictionaries are key-value pairs used to store data.\n",
    "\n",
    "# Example 1: Student Information\n",
    "student_info = {\"name\": \"Alice\", \"age\": 20, \"major\": \"Computer Science\"}\n",
    "\n",
    "# Example 2: Product Information\n",
    "product_info = {\"name\": \"Laptop\", \"price\": 899.99, \"brand\": \"Dell\"}\n",
    "\n",
    "\n"
   ]
  },
  {
   "cell_type": "markdown",
   "metadata": {},
   "source": [
    "https://www.linkedin.com/pulse/data-types-variables-expressions-python-anubhav-kumar/"
   ]
  }
 ],
 "metadata": {
  "kernelspec": {
   "display_name": "Python 3",
   "language": "python",
   "name": "python3"
  },
  "language_info": {
   "name": "python",
   "version": "3.10.11"
  },
  "orig_nbformat": 4
 },
 "nbformat": 4,
 "nbformat_minor": 2
}
